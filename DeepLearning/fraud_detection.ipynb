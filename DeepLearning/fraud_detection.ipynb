{
 "cells": [
  {
   "cell_type": "code",
   "execution_count": 1,
   "metadata": {},
   "outputs": [
    {
     "name": "stderr",
     "output_type": "stream",
     "text": [
      "Using Theano backend.\n"
     ]
    }
   ],
   "source": [
    "import pandas as pd\n",
    "import numpy as np\n",
    "import matplotlib.pyplot as plt\n",
    "# import tensorflow as tf\n",
    "\n",
    "from pylab import rcParams\n",
    "from keras.models import Sequential\n",
    "from keras.layers import Dense, Dropout\n",
    "\n",
    "%matplotlib inline\n",
    "\n",
    "RANDOM_SEED = 42\n",
    "LABELS = [\"Normal\", \"Fraud\"]"
   ]
  },
  {
   "cell_type": "markdown",
   "metadata": {},
   "source": [
    "# Loading the data\n",
    "\n",
    "The dataset we're going to use can be downloaded from [Kaggle](https://www.kaggle.com/dalpozz/creditcardfraud). It contains data about credit card transactions that occurred during a period of two days, with 492 frauds out of 284,807 transactions.\n",
    "\n",
    "All variables in the dataset are numerical. The data has been transformed using PCA transformation(s) due to privacy reasons. The two features that haven't been changed are Time and Amount. Time contains the seconds elapsed between each transaction and the first transaction in the dataset."
   ]
  },
  {
   "cell_type": "code",
   "execution_count": 2,
   "metadata": {
    "collapsed": true
   },
   "outputs": [],
   "source": [
    "df = pd.read_csv(\"creditcard.csv\")"
   ]
  },
  {
   "cell_type": "markdown",
   "metadata": {},
   "source": [
    "# Exploration"
   ]
  },
  {
   "cell_type": "code",
   "execution_count": 3,
   "metadata": {},
   "outputs": [
    {
     "data": {
      "text/plain": [
       "(284807, 31)"
      ]
     },
     "execution_count": 3,
     "metadata": {},
     "output_type": "execute_result"
    }
   ],
   "source": [
    "df.shape"
   ]
  },
  {
   "cell_type": "markdown",
   "metadata": {},
   "source": [
    "31 columns, 2 of which are Time and Amount. The rest are output from the PCA transformation. Let's check for missing values:"
   ]
  },
  {
   "cell_type": "code",
   "execution_count": 5,
   "metadata": {},
   "outputs": [
    {
     "name": "stdout",
     "output_type": "stream",
     "text": [
      "0    284315\n",
      "1       492\n",
      "Name: Class, dtype: int64\n"
     ]
    },
    {
     "data": {
      "image/png": "[encoded data removed]",
      "text/plain": [
       "<matplotlib.figure.Figure at 0x5d76208>"
      ]
     },
     "metadata": {},
     "output_type": "display_data"
    }
   ],
   "source": [
    "count_classes = pd.value_counts(df['Class'], sort = True)\n",
    "print(count_classes)\n",
    "count_classes.plot(kind = 'bar', rot=0)\n",
    "plt.title(\"Transaction class distribution\")\n",
    "plt.xticks(range(2), LABELS)\n",
    "plt.xlabel(\"Class\")\n",
    "plt.ylabel(\"Frequency\");"
   ]
  },
  {
   "cell_type": "markdown",
   "metadata": {},
   "source": [
    "# Preparing the data\n",
    "\n",
    "First, let's drop the Time column (not going to use it) and use the scikit's StandardScaler on the Amount. The scaler removes the mean and scales the values to unit variance:"
   ]
  },
  {
   "cell_type": "code",
   "execution_count": 6,
   "metadata": {},
   "outputs": [
    {
     "name": "stdout",
     "output_type": "stream",
     "text": [
      "(284807, 31)\n",
      "(284807, 30)\n"
     ]
    }
   ],
   "source": [
    "from sklearn.preprocessing import StandardScaler\n",
    "print(df.shape)\n",
    "data = df.drop(['Time'], axis=1)\n",
    "print(data.shape)\n",
    "data['Amount'] = StandardScaler().fit_transform(data['Amount'].values.reshape(-1, 1))\n",
    "# df[1:]"
   ]
  },
  {
   "cell_type": "markdown",
   "metadata": {},
   "source": [
    "Training our Autoencoder is gonna be a bit different from what we are used to. Let's say you have a dataset containing a lot of non fraudulent transactions at hand. You want to detect any anomaly on new transactions. We will create this situation by training our model on the normal transactions, only. Reserving the correct class on the test set will give us a way to evaluate the performance of our model. We will reserve 20% of our data for testing:"
   ]
  },
  {
   "cell_type": "code",
   "execution_count": 7,
   "metadata": {},
   "outputs": [],
   "source": [
    "from sklearn.model_selection import train_test_split\n",
    "\n",
    "data = np.array(data)\n",
    "\n",
    "X_train, X_test = train_test_split(data, test_size=0.2, random_state=RANDOM_SEED)\n",
    "# print(X_train.shape)\n",
    "X_train = X_train[X_train[:,-1] == 0]\n",
    "# print(X_train.shape)\n",
    "X_train = X_train[:,:-1]\n",
    "# print(X_train.shape)\n",
    "\n",
    "y_test = X_test[:,-1]\n",
    "X_test = X_test[:,:-1]"
   ]
  },
  {
   "cell_type": "code",
   "execution_count": 8,
   "metadata": {},
   "outputs": [
    {
     "data": {
      "text/plain": [
       "(227451L, 29L)"
      ]
     },
     "execution_count": 8,
     "metadata": {},
     "output_type": "execute_result"
    }
   ],
   "source": [
    "X_train.shape\n"
   ]
  },
  {
   "cell_type": "markdown",
   "metadata": {},
   "source": [
    "# Building the model\n",
    "\n",
    "Building an autoencoder with 100 hidden layer neurons."
   ]
  },
  {
   "cell_type": "code",
   "execution_count": 9,
   "metadata": {},
   "outputs": [
    {
     "name": "stdout",
     "output_type": "stream",
     "text": [
      "29\n"
     ]
    }
   ],
   "source": [
    "input_dim = X_train.shape[1]\n",
    "print(input_dim)\n",
    "encoding_dim = 15"
   ]
  },
  {
   "cell_type": "code",
   "execution_count": 10,
   "metadata": {},
   "outputs": [],
   "source": [
    "autoencoder = Sequential()\n",
    "\n",
    "autoencoder.add(Dropout(0.2, input_shape=(input_dim,)))\n",
    "autoencoder.add(Dense(20, activation='sigmoid'))\n",
    "autoencoder.add(Dense(encoding_dim, activation='relu'))\n",
    "autoencoder.add(Dense(20, activation='sigmoid'))\n",
    "autoencoder.add(Dense(input_dim, activation='linear'))"
   ]
  },
  {
   "cell_type": "markdown",
   "metadata": {},
   "source": [
    "Let's train our model for 100 epochs with a batch size of 32 samples and save the best performing model to a file."
   ]
  },
  {
   "cell_type": "code",
   "execution_count": 13,
   "metadata": {},
   "outputs": [
    {
     "name": "stdout",
     "output_type": "stream",
     "text": [
      "Train on 227451 samples, validate on 56962 samples\n",
      "Epoch 1/100\n",
      "227451/227451 [==============================] - 5s - loss: 0.2424 - mean_squared_error: 0.2424 - val_loss: 0.1892 - val_mean_squared_error: 0.1892\n",
      "Epoch 2/100\n",
      "227451/227451 [==============================] - 5s - loss: 0.2431 - mean_squared_error: 0.2431 - val_loss: 0.1964 - val_mean_squared_error: 0.1964\n",
      "Epoch 3/100\n",
      "227451/227451 [==============================] - 4s - loss: 0.2415 - mean_squared_error: 0.2415 - val_loss: 0.1964 - val_mean_squared_error: 0.1964\n",
      "Epoch 4/100\n",
      "227451/227451 [==============================] - 4s - loss: 0.2411 - mean_squared_error: 0.2411 - val_loss: 0.1965 - val_mean_squared_error: 0.1965\n",
      "Epoch 5/100\n",
      "227451/227451 [==============================] - 5s - loss: 0.2415 - mean_squared_error: 0.2415 - val_loss: 0.1907 - val_mean_squared_error: 0.1907\n",
      "Epoch 6/100\n",
      "227451/227451 [==============================] - 5s - loss: 0.2410 - mean_squared_error: 0.2410 - val_loss: 0.1874 - val_mean_squared_error: 0.1874\n",
      "Epoch 7/100\n",
      "227451/227451 [==============================] - 5s - loss: 0.2429 - mean_squared_error: 0.2429 - val_loss: 0.1942 - val_mean_squared_error: 0.1942\n",
      "Epoch 8/100\n",
      "227451/227451 [==============================] - 5s - loss: 0.2433 - mean_squared_error: 0.2433 - val_loss: 0.1938 - val_mean_squared_error: 0.1938\n",
      "Epoch 9/100\n",
      "227451/227451 [==============================] - 4s - loss: 0.2406 - mean_squared_error: 0.2406 - val_loss: 0.1889 - val_mean_squared_error: 0.1889\n",
      "Epoch 10/100\n",
      "227451/227451 [==============================] - 4s - loss: 0.2401 - mean_squared_error: 0.2401 - val_loss: 0.1901 - val_mean_squared_error: 0.1901\n",
      "Epoch 11/100\n",
      "227451/227451 [==============================] - 5s - loss: 0.2406 - mean_squared_error: 0.2406 - val_loss: 0.1942 - val_mean_squared_error: 0.1942\n",
      "Epoch 12/100\n",
      "227451/227451 [==============================] - 4s - loss: 0.2396 - mean_squared_error: 0.2396 - val_loss: 0.1923 - val_mean_squared_error: 0.1923\n",
      "Epoch 13/100\n",
      "227451/227451 [==============================] - 4s - loss: 0.2419 - mean_squared_error: 0.2419 - val_loss: 0.1898 - val_mean_squared_error: 0.1898\n",
      "Epoch 14/100\n",
      "227451/227451 [==============================] - 5s - loss: 0.2431 - mean_squared_error: 0.2431 - val_loss: 0.1894 - val_mean_squared_error: 0.1894\n",
      "Epoch 15/100\n",
      "227451/227451 [==============================] - 4s - loss: 0.2431 - mean_squared_error: 0.2431 - val_loss: 0.1936 - val_mean_squared_error: 0.1936\n",
      "Epoch 16/100\n",
      "227451/227451 [==============================] - 5s - loss: 0.2410 - mean_squared_error: 0.2410 - val_loss: 0.1934 - val_mean_squared_error: 0.1934\n",
      "Epoch 17/100\n",
      "227451/227451 [==============================] - 4s - loss: 0.2414 - mean_squared_error: 0.2414 - val_loss: 0.1906 - val_mean_squared_error: 0.1906\n",
      "Epoch 18/100\n",
      "227451/227451 [==============================] - 4s - loss: 0.2419 - mean_squared_error: 0.2419 - val_loss: 0.1901 - val_mean_squared_error: 0.1901\n",
      "Epoch 19/100\n",
      "227451/227451 [==============================] - 5s - loss: 0.2424 - mean_squared_error: 0.2424 - val_loss: 0.1927 - val_mean_squared_error: 0.1927\n",
      "Epoch 20/100\n",
      "227451/227451 [==============================] - 5s - loss: 0.2420 - mean_squared_error: 0.2420 - val_loss: 0.1897 - val_mean_squared_error: 0.1897\n",
      "Epoch 21/100\n",
      "227451/227451 [==============================] - 4s - loss: 0.2411 - mean_squared_error: 0.2411 - val_loss: 0.1919 - val_mean_squared_error: 0.1919\n",
      "Epoch 22/100\n",
      "227451/227451 [==============================] - 5s - loss: 0.2413 - mean_squared_error: 0.2413 - val_loss: 0.1886 - val_mean_squared_error: 0.1886\n",
      "Epoch 23/100\n",
      "227451/227451 [==============================] - 4s - loss: 0.2400 - mean_squared_error: 0.2400 - val_loss: 0.1905 - val_mean_squared_error: 0.1905\n",
      "Epoch 24/100\n",
      "227451/227451 [==============================] - 4s - loss: 0.2426 - mean_squared_error: 0.2426 - val_loss: 0.1854 - val_mean_squared_error: 0.1854\n",
      "Epoch 25/100\n",
      "227451/227451 [==============================] - 5s - loss: 0.2402 - mean_squared_error: 0.2402 - val_loss: 0.1899 - val_mean_squared_error: 0.1899\n",
      "Epoch 26/100\n",
      "227451/227451 [==============================] - 4s - loss: 0.2397 - mean_squared_error: 0.2397 - val_loss: 0.1895 - val_mean_squared_error: 0.1895\n",
      "Epoch 27/100\n",
      "227451/227451 [==============================] - 4s - loss: 0.2407 - mean_squared_error: 0.2407 - val_loss: 0.1902 - val_mean_squared_error: 0.1902\n",
      "Epoch 28/100\n",
      "227451/227451 [==============================] - 4s - loss: 0.2419 - mean_squared_error: 0.2419 - val_loss: 0.1916 - val_mean_squared_error: 0.1916\n",
      "Epoch 29/100\n",
      "227451/227451 [==============================] - 4s - loss: 0.2422 - mean_squared_error: 0.2422 - val_loss: 0.1907 - val_mean_squared_error: 0.1907\n",
      "Epoch 30/100\n",
      "227451/227451 [==============================] - 4s - loss: 0.2412 - mean_squared_error: 0.2412 - val_loss: 0.1933 - val_mean_squared_error: 0.1933\n",
      "Epoch 31/100\n",
      "227451/227451 [==============================] - 5s - loss: 0.2424 - mean_squared_error: 0.2424 - val_loss: 0.1890 - val_mean_squared_error: 0.1890\n",
      "Epoch 32/100\n",
      "227451/227451 [==============================] - 4s - loss: 0.2431 - mean_squared_error: 0.2431 - val_loss: 0.1877 - val_mean_squared_error: 0.1877\n",
      "Epoch 33/100\n",
      "227451/227451 [==============================] - 4s - loss: 0.2418 - mean_squared_error: 0.2418 - val_loss: 0.1927 - val_mean_squared_error: 0.1927\n",
      "Epoch 34/100\n",
      "227451/227451 [==============================] - 4s - loss: 0.2421 - mean_squared_error: 0.2421 - val_loss: 0.1863 - val_mean_squared_error: 0.1863\n",
      "Epoch 35/100\n",
      "227451/227451 [==============================] - 4s - loss: 0.2408 - mean_squared_error: 0.2408 - val_loss: 0.1926 - val_mean_squared_error: 0.1926\n",
      "Epoch 36/100\n",
      "227451/227451 [==============================] - 4s - loss: 0.2414 - mean_squared_error: 0.2414 - val_loss: 0.1916 - val_mean_squared_error: 0.1916\n",
      "Epoch 37/100\n",
      "227451/227451 [==============================] - 4s - loss: 0.2424 - mean_squared_error: 0.2424 - val_loss: 0.1884 - val_mean_squared_error: 0.1884\n",
      "Epoch 38/100\n",
      "227451/227451 [==============================] - 4s - loss: 0.2399 - mean_squared_error: 0.2399 - val_loss: 0.1928 - val_mean_squared_error: 0.1928\n",
      "Epoch 39/100\n",
      "227451/227451 [==============================] - 4s - loss: 0.2416 - mean_squared_error: 0.2416 - val_loss: 0.1895 - val_mean_squared_error: 0.1895\n",
      "Epoch 40/100\n",
      "227451/227451 [==============================] - 4s - loss: 0.2417 - mean_squared_error: 0.2417 - val_loss: 0.1929 - val_mean_squared_error: 0.1929\n",
      "Epoch 41/100\n",
      "227451/227451 [==============================] - 4s - loss: 0.2417 - mean_squared_error: 0.2417 - val_loss: 0.1930 - val_mean_squared_error: 0.1930\n",
      "Epoch 42/100\n",
      "227451/227451 [==============================] - 4s - loss: 0.2418 - mean_squared_error: 0.2418 - val_loss: 0.1873 - val_mean_squared_error: 0.1873\n",
      "Epoch 43/100\n",
      "227451/227451 [==============================] - 5s - loss: 0.2412 - mean_squared_error: 0.2412 - val_loss: 0.1966 - val_mean_squared_error: 0.1966\n",
      "Epoch 44/100\n",
      "227451/227451 [==============================] - 4s - loss: 0.2410 - mean_squared_error: 0.2410 - val_loss: 0.1865 - val_mean_squared_error: 0.1865\n",
      "Epoch 45/100\n",
      "227451/227451 [==============================] - 4s - loss: 0.2401 - mean_squared_error: 0.2401 - val_loss: 0.1882 - val_mean_squared_error: 0.1882\n",
      "Epoch 46/100\n",
      "227451/227451 [==============================] - 4s - loss: 0.2411 - mean_squared_error: 0.2411 - val_loss: 0.1921 - val_mean_squared_error: 0.1921\n",
      "Epoch 47/100\n",
      "227451/227451 [==============================] - 4s - loss: 0.2425 - mean_squared_error: 0.2425 - val_loss: 0.1877 - val_mean_squared_error: 0.1877\n",
      "Epoch 48/100\n",
      "227451/227451 [==============================] - 4s - loss: 0.2405 - mean_squared_error: 0.2405 - val_loss: 0.1903 - val_mean_squared_error: 0.1903\n",
      "Epoch 49/100\n",
      "227451/227451 [==============================] - 4s - loss: 0.2420 - mean_squared_error: 0.2420 - val_loss: 0.1971 - val_mean_squared_error: 0.1971\n",
      "Epoch 50/100\n",
      "227451/227451 [==============================] - 4s - loss: 0.2406 - mean_squared_error: 0.2406 - val_loss: 0.1897 - val_mean_squared_error: 0.1897\n",
      "Epoch 51/100\n"
     ]
    },
    {
     "name": "stdout",
     "output_type": "stream",
     "text": [
      "227451/227451 [==============================] - 5s - loss: 0.2406 - mean_squared_error: 0.2406 - val_loss: 0.1904 - val_mean_squared_error: 0.1904\n",
      "Epoch 52/100\n",
      "227451/227451 [==============================] - 5s - loss: 0.2416 - mean_squared_error: 0.2416 - val_loss: 0.1929 - val_mean_squared_error: 0.1929\n",
      "Epoch 53/100\n",
      "227451/227451 [==============================] - 4s - loss: 0.2415 - mean_squared_error: 0.2415 - val_loss: 0.1890 - val_mean_squared_error: 0.1890\n",
      "Epoch 54/100\n",
      "227451/227451 [==============================] - 5s - loss: 0.2413 - mean_squared_error: 0.2413 - val_loss: 0.1884 - val_mean_squared_error: 0.1884\n",
      "Epoch 55/100\n",
      "227451/227451 [==============================] - 5s - loss: 0.2416 - mean_squared_error: 0.2416 - val_loss: 0.1856 - val_mean_squared_error: 0.1856\n",
      "Epoch 56/100\n",
      "227451/227451 [==============================] - 4s - loss: 0.2417 - mean_squared_error: 0.2417 - val_loss: 0.1865 - val_mean_squared_error: 0.1865\n",
      "Epoch 57/100\n",
      "227451/227451 [==============================] - 4s - loss: 0.2410 - mean_squared_error: 0.2410 - val_loss: 0.1862 - val_mean_squared_error: 0.1862\n",
      "Epoch 58/100\n",
      "227451/227451 [==============================] - 4s - loss: 0.2401 - mean_squared_error: 0.2401 - val_loss: 0.1942 - val_mean_squared_error: 0.1942\n",
      "Epoch 59/100\n",
      "227451/227451 [==============================] - 4s - loss: 0.2415 - mean_squared_error: 0.2415 - val_loss: 0.1907 - val_mean_squared_error: 0.1907\n",
      "Epoch 60/100\n",
      "227451/227451 [==============================] - 4s - loss: 0.2432 - mean_squared_error: 0.2432 - val_loss: 0.1935 - val_mean_squared_error: 0.1935\n",
      "Epoch 61/100\n",
      "227451/227451 [==============================] - 4s - loss: 0.2408 - mean_squared_error: 0.2408 - val_loss: 0.1877 - val_mean_squared_error: 0.1877\n",
      "Epoch 62/100\n",
      "227451/227451 [==============================] - 4s - loss: 0.2412 - mean_squared_error: 0.2412 - val_loss: 0.1871 - val_mean_squared_error: 0.1871\n",
      "Epoch 63/100\n",
      "227451/227451 [==============================] - 4s - loss: 0.2431 - mean_squared_error: 0.2431 - val_loss: 0.1935 - val_mean_squared_error: 0.1935\n",
      "Epoch 64/100\n",
      "227451/227451 [==============================] - 4s - loss: 0.2399 - mean_squared_error: 0.2399 - val_loss: 0.1873 - val_mean_squared_error: 0.1873\n",
      "Epoch 65/100\n",
      "227451/227451 [==============================] - 4s - loss: 0.2421 - mean_squared_error: 0.2421 - val_loss: 0.1948 - val_mean_squared_error: 0.1948\n",
      "Epoch 66/100\n",
      "227451/227451 [==============================] - 4s - loss: 0.2415 - mean_squared_error: 0.2415 - val_loss: 0.1945 - val_mean_squared_error: 0.1945\n",
      "Epoch 67/100\n",
      "227451/227451 [==============================] - 4s - loss: 0.2402 - mean_squared_error: 0.2402 - val_loss: 0.1880 - val_mean_squared_error: 0.1880\n",
      "Epoch 68/100\n",
      "227451/227451 [==============================] - 5s - loss: 0.2397 - mean_squared_error: 0.2397 - val_loss: 0.1892 - val_mean_squared_error: 0.1892\n",
      "Epoch 69/100\n",
      "227451/227451 [==============================] - 5s - loss: 0.2406 - mean_squared_error: 0.2406 - val_loss: 0.1936 - val_mean_squared_error: 0.1936\n",
      "Epoch 70/100\n",
      "227451/227451 [==============================] - 4s - loss: 0.2392 - mean_squared_error: 0.2392 - val_loss: 0.1924 - val_mean_squared_error: 0.1924\n",
      "Epoch 71/100\n",
      "227451/227451 [==============================] - 4s - loss: 0.2401 - mean_squared_error: 0.2401 - val_loss: 0.1914 - val_mean_squared_error: 0.1914\n",
      "Epoch 72/100\n",
      "227451/227451 [==============================] - 4s - loss: 0.2418 - mean_squared_error: 0.2418 - val_loss: 0.1978 - val_mean_squared_error: 0.1978\n",
      "Epoch 73/100\n",
      "227451/227451 [==============================] - 4s - loss: 0.2414 - mean_squared_error: 0.2414 - val_loss: 0.1931 - val_mean_squared_error: 0.1931\n",
      "Epoch 74/100\n",
      "227451/227451 [==============================] - 4s - loss: 0.2396 - mean_squared_error: 0.2396 - val_loss: 0.1890 - val_mean_squared_error: 0.1890\n",
      "Epoch 75/100\n",
      "227451/227451 [==============================] - 4s - loss: 0.2404 - mean_squared_error: 0.2404 - val_loss: 0.1908 - val_mean_squared_error: 0.1908\n",
      "Epoch 76/100\n",
      "227451/227451 [==============================] - 4s - loss: 0.2400 - mean_squared_error: 0.2400 - val_loss: 0.1873 - val_mean_squared_error: 0.1873\n",
      "Epoch 77/100\n",
      "227451/227451 [==============================] - 4s - loss: 0.2413 - mean_squared_error: 0.2413 - val_loss: 0.1900 - val_mean_squared_error: 0.1900\n",
      "Epoch 78/100\n",
      "227451/227451 [==============================] - 4s - loss: 0.2417 - mean_squared_error: 0.2417 - val_loss: 0.1878 - val_mean_squared_error: 0.1878\n",
      "Epoch 79/100\n",
      "227451/227451 [==============================] - 5s - loss: 0.2419 - mean_squared_error: 0.2419 - val_loss: 0.1889 - val_mean_squared_error: 0.1889\n",
      "Epoch 80/100\n",
      "227451/227451 [==============================] - 5s - loss: 0.2404 - mean_squared_error: 0.2404 - val_loss: 0.1900 - val_mean_squared_error: 0.1900\n",
      "Epoch 81/100\n",
      "227451/227451 [==============================] - 4s - loss: 0.2398 - mean_squared_error: 0.2398 - val_loss: 0.1909 - val_mean_squared_error: 0.1909\n",
      "Epoch 82/100\n",
      "227451/227451 [==============================] - 4s - loss: 0.2405 - mean_squared_error: 0.2405 - val_loss: 0.1954 - val_mean_squared_error: 0.1954\n",
      "Epoch 83/100\n",
      "227451/227451 [==============================] - 4s - loss: 0.2408 - mean_squared_error: 0.2408 - val_loss: 0.1882 - val_mean_squared_error: 0.1882\n",
      "Epoch 84/100\n",
      "227451/227451 [==============================] - 4s - loss: 0.2419 - mean_squared_error: 0.2419 - val_loss: 0.1916 - val_mean_squared_error: 0.1916\n",
      "Epoch 85/100\n",
      "227451/227451 [==============================] - 4s - loss: 0.2386 - mean_squared_error: 0.2386 - val_loss: 0.1900 - val_mean_squared_error: 0.1900\n",
      "Epoch 86/100\n",
      "227451/227451 [==============================] - 4s - loss: 0.2394 - mean_squared_error: 0.2394 - val_loss: 0.1897 - val_mean_squared_error: 0.1897\n",
      "Epoch 87/100\n",
      "227451/227451 [==============================] - 4s - loss: 0.2399 - mean_squared_error: 0.2399 - val_loss: 0.1924 - val_mean_squared_error: 0.1924\n",
      "Epoch 88/100\n",
      "227451/227451 [==============================] - 4s - loss: 0.2413 - mean_squared_error: 0.2413 - val_loss: 0.1852 - val_mean_squared_error: 0.1852\n",
      "Epoch 89/100\n",
      "227451/227451 [==============================] - 4s - loss: 0.2409 - mean_squared_error: 0.2409 - val_loss: 0.1954 - val_mean_squared_error: 0.1954\n",
      "Epoch 90/100\n",
      "227451/227451 [==============================] - 4s - loss: 0.2415 - mean_squared_error: 0.2415 - val_loss: 0.1944 - val_mean_squared_error: 0.1944\n",
      "Epoch 91/100\n",
      "227451/227451 [==============================] - 4s - loss: 0.2422 - mean_squared_error: 0.2422 - val_loss: 0.1912 - val_mean_squared_error: 0.1912\n",
      "Epoch 92/100\n",
      "227451/227451 [==============================] - 5s - loss: 0.2394 - mean_squared_error: 0.2394 - val_loss: 0.1860 - val_mean_squared_error: 0.1860\n",
      "Epoch 93/100\n",
      "227451/227451 [==============================] - 5s - loss: 0.2417 - mean_squared_error: 0.2417 - val_loss: 0.1917 - val_mean_squared_error: 0.1917\n",
      "Epoch 94/100\n",
      "227451/227451 [==============================] - 4s - loss: 0.2403 - mean_squared_error: 0.2403 - val_loss: 0.1863 - val_mean_squared_error: 0.1863\n",
      "Epoch 95/100\n",
      "227451/227451 [==============================] - 4s - loss: 0.2420 - mean_squared_error: 0.2420 - val_loss: 0.1895 - val_mean_squared_error: 0.1895\n",
      "Epoch 96/100\n",
      "227451/227451 [==============================] - 4s - loss: 0.2404 - mean_squared_error: 0.2404 - val_loss: 0.1874 - val_mean_squared_error: 0.1874\n",
      "Epoch 97/100\n",
      "227451/227451 [==============================] - 4s - loss: 0.2388 - mean_squared_error: 0.2388 - val_loss: 0.1876 - val_mean_squared_error: 0.1876\n",
      "Epoch 98/100\n",
      "227451/227451 [==============================] - 4s - loss: 0.2398 - mean_squared_error: 0.2398 - val_loss: 0.1935 - val_mean_squared_error: 0.1935\n",
      "Epoch 99/100\n",
      "227451/227451 [==============================] - 4s - loss: 0.2407 - mean_squared_error: 0.2407 - val_loss: 0.1893 - val_mean_squared_error: 0.1893\n",
      "Epoch 100/100\n",
      "227451/227451 [==============================] - 4s - loss: 0.2394 - mean_squared_error: 0.2394 - val_loss: 0.1885 - val_mean_squared_error: 0.1885\n"
     ]
    }
   ],
   "source": [
    "epoch = 100\n",
    "batch_size = 32\n",
    "\n",
    "autoencoder.compile(optimizer='adam', \n",
    "                    loss='mean_squared_error', \n",
    "                    metrics=['mse'])\n",
    "\n",
    "history = autoencoder.fit(X_train, X_train,\n",
    "                    nb_epoch = epoch,\n",
    "                    batch_size=batch_size,\n",
    "                    shuffle=True,\n",
    "                    validation_data=(X_test, X_test),\n",
    "                    verbose=1).history"
   ]
  },
  {
   "cell_type": "markdown",
   "metadata": {},
   "source": [
    "# Evaluation"
   ]
  },
  {
   "cell_type": "code",
   "execution_count": 15,
   "metadata": {},
   "outputs": [
    {
     "data": {
      "image/png": "[encoded data removed]",
      "text/plain": [
       "<matplotlib.figure.Figure at 0x1f262a828>"
      ]
     },
     "metadata": {},
     "output_type": "display_data"
    }
   ],
   "source": [
    "plt.plot(history['mean_squared_error'])\n",
    "plt.plot(history['val_mean_squared_error'])\n",
    "plt.title('model loss')\n",
    "plt.ylabel('loss')\n",
    "plt.xlabel('epoch')\n",
    "plt.legend(['train', 'test'], loc='upper right');"
   ]
  },
  {
   "cell_type": "markdown",
   "metadata": {},
   "source": [
    "The reconstruction error on our training and test data seems to converge nicely. Is it low enough? Let's have a closer look at the error distribution:"
   ]
  },
  {
   "cell_type": "code",
   "execution_count": 16,
   "metadata": {},
   "outputs": [],
   "source": [
    "predictions = autoencoder.predict(X_train)\n",
    "recon  = (((predictions-X_train)**2).mean(-1))\n",
    "\n",
    "test_pred = autoencoder.predict(X_test)\n",
    "test_recon  = (((test_pred-X_test)**2).mean(-1))\n",
    "\n",
    "mean_recon = recon.mean()"
   ]
  },
  {
   "cell_type": "code",
   "execution_count": null,
   "metadata": {},
   "outputs": [],
   "source": [
    "from sklearn.metrics import precision_score,recall_score\n",
    "\n",
    "prc = list()\n",
    "rec = list()\n",
    "thres = list()\n",
    "\n",
    "th = 0\n",
    "for i in range(100):\n",
    "    th+=0.1\n",
    "    fraud = (test_recon>mean_recon+th)\n",
    "    prc.append(precision_score(y_test,fraud))\n",
    "    rec.append(recall_score(y_test,fraud))\n",
    "    thres.append(th)\n",
    "    "
   ]
  },
  {
   "cell_type": "code",
   "execution_count": null,
   "metadata": {},
   "outputs": [],
   "source": [
    "plt.plot(prc, rec)\n",
    "plt.title('precision vs recall')\n",
    "plt.ylabel('recall')\n",
    "plt.xlabel('precision')"
   ]
  },
  {
   "cell_type": "code",
   "execution_count": null,
   "metadata": {},
   "outputs": [],
   "source": [
    "plt.plot(thres, rec)\n",
    "plt.title('threshold vs recall')\n",
    "plt.ylabel('recall')\n",
    "plt.xlabel('threshold')"
   ]
  },
  {
   "cell_type": "code",
   "execution_count": null,
   "metadata": {},
   "outputs": [],
   "source": [
    "plt.plot(thres, prc)\n",
    "plt.title('threshold vs precision')\n",
    "plt.ylabel('precision')\n",
    "plt.xlabel('threshold')"
   ]
  },
  {
   "cell_type": "code",
   "execution_count": null,
   "metadata": {
    "collapsed": true
   },
   "outputs": [],
   "source": []
  }
 ],
 "metadata": {
  "kernelspec": {
   "display_name": "Python 2",
   "language": "python",
   "name": "python2"
  },
  "language_info": {
   "codemirror_mode": {
    "name": "ipython",
    "version": 2
   },
   "file_extension": ".py",
   "mimetype": "text/x-python",
   "name": "python",
   "nbconvert_exporter": "python",
   "pygments_lexer": "ipython2",
   "version": "2.7.13"
  }
 },
 "nbformat": 4,
 "nbformat_minor": 2
}
