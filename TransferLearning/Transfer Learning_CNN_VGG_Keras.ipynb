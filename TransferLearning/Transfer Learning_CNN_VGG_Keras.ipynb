{
 "cells": [
  {
   "cell_type": "code",
   "execution_count": 13,
   "metadata": {},
   "outputs": [],
   "source": [
    "from keras.models import Sequential\n",
    "from keras.layers.core import Flatten, Dense, Dropout\n",
    "from keras.layers.convolutional import Convolution2D, MaxPooling2D, ZeroPadding2D\n",
    "from keras.optimizers import SGD\n",
    "#from keras.utils import to_categorical\n",
    "from keras.utils.np_utils import to_categorical\n",
    "from keras import backend as K\n",
    "#from theano import tensor as K\n",
    "\n",
    "import numpy as np\n",
    "import os\n",
    "import PIL\n",
    "from PIL import Image"
   ]
  },
  {
   "cell_type": "code",
   "execution_count": 14,
   "metadata": {
    "collapsed": true
   },
   "outputs": [],
   "source": [
    "def VGG_16(weights_path=None):\n",
    "    model = Sequential()\n",
    "    model.add(ZeroPadding2D((1,1),input_shape=(3,224,224)))\n",
    "    model.add(Convolution2D(64,3,3,activation='relu'))\n",
    "    model.add(ZeroPadding2D((1,1)))\n",
    "    model.add(Convolution2D(64, 3, 3, activation='relu'))\n",
    "    model.add(MaxPooling2D((2,2), strides=(2,2)))\n",
    "\n",
    "    model.add(ZeroPadding2D((1,1)))\n",
    "    model.add(Convolution2D(128, 3, 3, activation='relu'))\n",
    "    model.add(ZeroPadding2D((1,1)))\n",
    "    model.add(Convolution2D(128, 3, 3, activation='relu'))\n",
    "    model.add(MaxPooling2D((2,2), strides=(2,2)))\n",
    "\n",
    "    model.add(ZeroPadding2D((1,1)))\n",
    "    model.add(Convolution2D(256, 3, 3, activation='relu'))\n",
    "    model.add(ZeroPadding2D((1,1)))\n",
    "    model.add(Convolution2D(256, 3, 3, activation='relu'))\n",
    "    model.add(ZeroPadding2D((1,1)))\n",
    "    model.add(Convolution2D(256, 3, 3, activation='relu'))\n",
    "    model.add(MaxPooling2D((2,2), strides=(2,2)))\n",
    "\n",
    "    model.add(ZeroPadding2D((1,1)))\n",
    "    model.add(Convolution2D(512, 3, 3, activation='relu'))\n",
    "    model.add(ZeroPadding2D((1,1)))\n",
    "    model.add(Convolution2D(512, 3, 3, activation='relu'))\n",
    "    model.add(ZeroPadding2D((1,1)))\n",
    "    model.add(Convolution2D(512, 3, 3, activation='relu'))\n",
    "    model.add(MaxPooling2D((2,2), strides=(2,2)))\n",
    "\n",
    "    model.add(ZeroPadding2D((1,1)))\n",
    "    model.add(Convolution2D(512, 3, 3, activation='relu'))\n",
    "    model.add(ZeroPadding2D((1,1)))\n",
    "    model.add(Convolution2D(512, 3, 3, activation='relu'))\n",
    "    model.add(ZeroPadding2D((1,1)))\n",
    "    model.add(Convolution2D(512, 3, 3, activation='relu'))\n",
    "    model.add(MaxPooling2D((2,2), strides=(2,2)))\n",
    "\n",
    "    model.add(Flatten())\n",
    "    model.add(Dense(4096, activation='relu'))\n",
    "    model.add(Dropout(0.5))\n",
    "    model.add(Dense(4096, activation='relu'))\n",
    "    model.add(Dropout(0.5))\n",
    "    model.add(Dense(1000, activation='softmax'))\n",
    "\n",
    "    if weights_path:\n",
    "        model.load_weights(weights_path)\n",
    "\n",
    "    return model"
   ]
  },
  {
   "cell_type": "code",
   "execution_count": 15,
   "metadata": {},
   "outputs": [
    {
     "name": "stderr",
     "output_type": "stream",
     "text": [
      "C:\\Users\\hahmed\\Anaconda2\\lib\\site-packages\\ipykernel_launcher.py:4: UserWarning: Update your `Conv2D` call to the Keras 2 API: `Conv2D(64, (3, 3), activation=\"relu\")`\n",
      "  after removing the cwd from sys.path.\n",
      "C:\\Users\\hahmed\\Anaconda2\\lib\\site-packages\\ipykernel_launcher.py:6: UserWarning: Update your `Conv2D` call to the Keras 2 API: `Conv2D(64, (3, 3), activation=\"relu\")`\n",
      "  \n",
      "C:\\Users\\hahmed\\Anaconda2\\lib\\site-packages\\ipykernel_launcher.py:10: UserWarning: Update your `Conv2D` call to the Keras 2 API: `Conv2D(128, (3, 3), activation=\"relu\")`\n",
      "  # Remove the CWD from sys.path while we load stuff.\n",
      "C:\\Users\\hahmed\\Anaconda2\\lib\\site-packages\\ipykernel_launcher.py:12: UserWarning: Update your `Conv2D` call to the Keras 2 API: `Conv2D(128, (3, 3), activation=\"relu\")`\n",
      "  if sys.path[0] == '':\n",
      "C:\\Users\\hahmed\\Anaconda2\\lib\\site-packages\\ipykernel_launcher.py:16: UserWarning: Update your `Conv2D` call to the Keras 2 API: `Conv2D(256, (3, 3), activation=\"relu\")`\n",
      "  app.launch_new_instance()\n",
      "C:\\Users\\hahmed\\Anaconda2\\lib\\site-packages\\ipykernel_launcher.py:18: UserWarning: Update your `Conv2D` call to the Keras 2 API: `Conv2D(256, (3, 3), activation=\"relu\")`\n",
      "C:\\Users\\hahmed\\Anaconda2\\lib\\site-packages\\ipykernel_launcher.py:20: UserWarning: Update your `Conv2D` call to the Keras 2 API: `Conv2D(256, (3, 3), activation=\"relu\")`\n",
      "C:\\Users\\hahmed\\Anaconda2\\lib\\site-packages\\ipykernel_launcher.py:24: UserWarning: Update your `Conv2D` call to the Keras 2 API: `Conv2D(512, (3, 3), activation=\"relu\")`\n",
      "C:\\Users\\hahmed\\Anaconda2\\lib\\site-packages\\ipykernel_launcher.py:26: UserWarning: Update your `Conv2D` call to the Keras 2 API: `Conv2D(512, (3, 3), activation=\"relu\")`\n",
      "C:\\Users\\hahmed\\Anaconda2\\lib\\site-packages\\ipykernel_launcher.py:28: UserWarning: Update your `Conv2D` call to the Keras 2 API: `Conv2D(512, (3, 3), activation=\"relu\")`\n",
      "C:\\Users\\hahmed\\Anaconda2\\lib\\site-packages\\ipykernel_launcher.py:32: UserWarning: Update your `Conv2D` call to the Keras 2 API: `Conv2D(512, (3, 3), activation=\"relu\")`\n",
      "C:\\Users\\hahmed\\Anaconda2\\lib\\site-packages\\ipykernel_launcher.py:34: UserWarning: Update your `Conv2D` call to the Keras 2 API: `Conv2D(512, (3, 3), activation=\"relu\")`\n",
      "C:\\Users\\hahmed\\Anaconda2\\lib\\site-packages\\ipykernel_launcher.py:36: UserWarning: Update your `Conv2D` call to the Keras 2 API: `Conv2D(512, (3, 3), activation=\"relu\")`\n"
     ]
    }
   ],
   "source": [
    "#model = VGG_16('vgg16_weights_tf_dim_ordering_tf_kernels.h5')\n",
    "model = VGG_16('vgg16_weights_th_dim_ordering_th_kernels.h5')\n",
    "#sgd = SGD(lr=0.1, decay=1e-6, momentum=0.9, nesterov=True)\n",
    "#model.compile(optimizer=sgd, loss='categorical_crossentropy')"
   ]
  },
  {
   "cell_type": "code",
   "execution_count": 16,
   "metadata": {
    "collapsed": true
   },
   "outputs": [],
   "source": [
    "size = 224\n",
    "def read_image(f):\n",
    "    im = Image.open(f)\n",
    "    im = im.resize((size, size), PIL.Image.NEAREST)\n",
    "    im = np.asarray(im, dtype='float64')\n",
    "    im[:,:,0] -= 103.939\n",
    "    im[:,:,1] -= 116.779\n",
    "    im[:,:,2] -= 123.68\n",
    "    im = im.transpose((2,0,1))\n",
    "    im = np.expand_dims(im, axis=0)\n",
    "    im = im.reshape(1,3,224,224)\n",
    "    \n",
    "    return(im)\n",
    "#resize has multiple algorithms, one of them is nearest\n",
    "#np.asarray is used to convert image from PIL image format to array format\n",
    "#103,116,123 are rescaling  / inverse scaling parameters - these are means from VGG channel means ; \n",
    "#VGG has trained using scaled input data with above means "
   ]
  },
  {
   "cell_type": "code",
   "execution_count": 17,
   "metadata": {},
   "outputs": [
    {
     "name": "stdout",
     "output_type": "stream",
     "text": [
      "(1L, 3L, 224L, 224L)\n"
     ]
    },
    {
     "data": {
      "text/plain": [
       "<keras.layers.core.Dense at 0x1257a358>"
      ]
     },
     "execution_count": 17,
     "metadata": {},
     "output_type": "execute_result"
    }
   ],
   "source": [
    "im = read_image('C:\\\\MOOC\\\\Insofe\\\\Module 5- Advance Machine Learning\\\\20170916_Batch 29_CSE7321c_Transfer_Learning_LabDay\\\\20170916_Batch 29_CSE7321c_Transfer_Learning\\\\test_samples\\\\1.jpg')\n",
    "print(im.shape)\n",
    "model.layers[32]"
   ]
  },
  {
   "cell_type": "code",
   "execution_count": 18,
   "metadata": {},
   "outputs": [
    {
     "name": "stdout",
     "output_type": "stream",
     "text": [
      "(1L, 4096L)\n"
     ]
    }
   ],
   "source": [
    "# with a Sequential model\n",
    "get_33rd_layer_output = K.function([model.layers[0].input],\n",
    "                                  [model.layers[32].output])\n",
    "layer_output = get_33rd_layer_output([im])[0]\n",
    "print(layer_output.shape)\n",
    "\n",
    "#the backend function in keras which is K.function uses our input and VGG net architecture layers\n",
    "#the 33 model layer output is given for our input\n",
    "#we got 4096 features which can be used as input to your own mlp"
   ]
  },
  {
   "cell_type": "code",
   "execution_count": 19,
   "metadata": {
    "collapsed": true
   },
   "outputs": [],
   "source": [
    "img_files = []\n",
    "for root, dirs, files in os.walk('C:\\\\MOOC\\\\Insofe\\\\Module 5- Advance Machine Learning\\\\20170916_Batch 29_CSE7321c_Transfer_Learning_LabDay\\\\20170916_Batch 29_CSE7321c_Transfer_Learning\\\\train_samples'):\n",
    "    img_files.extend(files)"
   ]
  },
  {
   "cell_type": "code",
   "execution_count": 9,
   "metadata": {},
   "outputs": [
    {
     "name": "stdout",
     "output_type": "stream",
     "text": [
      "('Total number of images:', 4000)\n",
      "('Sample images taken:', 4000)\n",
      "Reading train images ...\n",
      "Read 0 images\n",
      "((1L, 4096L), 'x_train Shape')\n",
      "((1L, 2L), 'y_train Shape')\n"
     ]
    }
   ],
   "source": [
    "n_files = len(img_files)\n",
    "print('Total number of images:', n_files)\n",
    "\n",
    "#train_size = 2000\n",
    "#for demo\n",
    "train_size = 10\n",
    "sample_size = max(n_files,train_size)\n",
    "print('Sample images taken:', sample_size)\n",
    "sample = [img_files[i] for i in np.random.choice(len(files),size=sample_size, replace=False)]\n",
    "\n",
    "i=0\n",
    "x_train = []\n",
    "y_train = []\n",
    "print('Reading train images ...')\n",
    "for file in sample:\n",
    "    if(i%200==0):\n",
    "        print('Read {} images'.format(i))\n",
    "    im = read_image('C:\\\\MOOC\\\\Insofe\\\\Module 5- Advance Machine Learning\\\\20170916_Batch 29_CSE7321c_Transfer_Learning_LabDay\\\\20170916_Batch 29_CSE7321c_Transfer_Learning\\\\train_samples/'+file)\n",
    "    temp = get_33rd_layer_output([im])[0]\n",
    "    x_train.append(temp[0])\n",
    "    y_train.extend([0 if file[:3]=='cat' else 1])\n",
    "    i+=1\n",
    "\n",
    "x_train = np.array(x_train)\n",
    "print(x_train.shape, 'x_train Shape')\n",
    "\n",
    "y_train = to_categorical(y_train)\n",
    "print(y_train.shape, 'y_train Shape')"
   ]
  },
  {
   "cell_type": "code",
   "execution_count": 10,
   "metadata": {
    "collapsed": true
   },
   "outputs": [],
   "source": [
    "mlp = Sequential()\n",
    "mlp.add(Dense(256, input_dim=4096, activation='relu'))\n",
    "mlp.add(Dropout(0.5))\n",
    "mlp.add(Dense(128, activation='relu'))\n",
    "mlp.add(Dropout(0.5))\n",
    "mlp.add(Dense(2, activation='softmax'))\n",
    "\n",
    "#adam = Adam(lr=0.1)\n",
    "mlp.compile(optimizer='Adam', \n",
    "            loss='categorical_crossentropy', \n",
    "            metrics=['acc'])"
   ]
  },
  {
   "cell_type": "code",
   "execution_count": 12,
   "metadata": {},
   "outputs": [
    {
     "name": "stdout",
     "output_type": "stream",
     "text": [
      "Epoch 1/1\n",
      "1/1 [==============================] - 0s - loss: 14.9810 - acc: 0.0000e+00\n"
     ]
    },
    {
     "data": {
      "text/plain": [
       "<keras.callbacks.History at 0x1341fb00>"
      ]
     },
     "execution_count": 12,
     "metadata": {},
     "output_type": "execute_result"
    }
   ],
   "source": [
    "mlp.fit(x_train, y_train, epochs=10)"
   ]
  },
  {
   "cell_type": "code",
   "execution_count": null,
   "metadata": {
    "collapsed": true
   },
   "outputs": [],
   "source": []
  },
  {
   "cell_type": "code",
   "execution_count": 58,
   "metadata": {},
   "outputs": [
    {
     "data": {
      "text/plain": [
       "[<keras.layers.convolutional.ZeroPadding2D at 0x12202828>,\n",
       " <keras.layers.convolutional.Convolution2D at 0x11d83320>,\n",
       " <keras.layers.convolutional.ZeroPadding2D at 0xfdc6e10>,\n",
       " <keras.layers.convolutional.Convolution2D at 0xfe58be0>,\n",
       " <keras.layers.pooling.MaxPooling2D at 0xfad87f0>,\n",
       " <keras.layers.convolutional.ZeroPadding2D at 0x183a1588>,\n",
       " <keras.layers.convolutional.Convolution2D at 0xe0bbf28>,\n",
       " <keras.layers.convolutional.ZeroPadding2D at 0x11173f98>,\n",
       " <keras.layers.convolutional.Convolution2D at 0x11e53cf8>,\n",
       " <keras.layers.pooling.MaxPooling2D at 0xf804908>,\n",
       " <keras.layers.convolutional.ZeroPadding2D at 0xf730588>,\n",
       " <keras.layers.convolutional.Convolution2D at 0x11de9080>,\n",
       " <keras.layers.convolutional.ZeroPadding2D at 0x11ef4ac8>,\n",
       " <keras.layers.convolutional.Convolution2D at 0xf823cc0>,\n",
       " <keras.layers.convolutional.ZeroPadding2D at 0xf823be0>,\n",
       " <keras.layers.convolutional.Convolution2D at 0x182721d0>,\n",
       " <keras.layers.pooling.MaxPooling2D at 0xf85b0b8>,\n",
       " <keras.layers.convolutional.ZeroPadding2D at 0xc9da908>,\n",
       " <keras.layers.convolutional.Convolution2D at 0x11033470>,\n",
       " <keras.layers.convolutional.ZeroPadding2D at 0xf77ec18>,\n",
       " <keras.layers.convolutional.Convolution2D at 0xf83cd30>,\n",
       " <keras.layers.convolutional.ZeroPadding2D at 0xdc81e80>,\n",
       " <keras.layers.convolutional.Convolution2D at 0x114d1c18>,\n",
       " <keras.layers.pooling.MaxPooling2D at 0x11008278>,\n",
       " <keras.layers.convolutional.ZeroPadding2D at 0xf77f438>,\n",
       " <keras.layers.convolutional.Convolution2D at 0x10c88eb8>,\n",
       " <keras.layers.convolutional.ZeroPadding2D at 0xf843908>,\n",
       " <keras.layers.convolutional.Convolution2D at 0xf738ef0>,\n",
       " <keras.layers.convolutional.ZeroPadding2D at 0x10fe0630>,\n",
       " <keras.layers.convolutional.Convolution2D at 0xd6b8048>,\n",
       " <keras.layers.pooling.MaxPooling2D at 0x17d5feb8>,\n",
       " <keras.layers.core.Flatten at 0xd7ee518>,\n",
       " <keras.layers.core.Dense at 0xdbde6a0>,\n",
       " <keras.layers.core.Dropout at 0x17c6c198>,\n",
       " <keras.layers.core.Dense at 0xf787b38>,\n",
       " <keras.layers.core.Dropout at 0xf787630>,\n",
       " <keras.layers.core.Dense at 0xdbde3c8>]"
      ]
     },
     "execution_count": 58,
     "metadata": {},
     "output_type": "execute_result"
    }
   ],
   "source": [
    "model.layers"
   ]
  }
 ],
 "metadata": {
  "anaconda-cloud": {},
  "kernelspec": {
   "display_name": "Python 2",
   "language": "python",
   "name": "python2"
  },
  "language_info": {
   "codemirror_mode": {
    "name": "ipython",
    "version": 2
   },
   "file_extension": ".py",
   "mimetype": "text/x-python",
   "name": "python",
   "nbconvert_exporter": "python",
   "pygments_lexer": "ipython2",
   "version": "2.7.13"
  }
 },
 "nbformat": 4,
 "nbformat_minor": 2
}
